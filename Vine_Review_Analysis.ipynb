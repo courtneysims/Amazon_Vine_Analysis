{
 "cells": [
  {
   "cell_type": "code",
   "execution_count": 30,
   "id": "f42997f4",
   "metadata": {},
   "outputs": [],
   "source": [
    "import pandas as pd\n",
    "#Deliverable 2 analysis"
   ]
  },
  {
   "cell_type": "code",
   "execution_count": 31,
   "id": "4d0b4676",
   "metadata": {},
   "outputs": [
    {
     "data": {
      "text/html": [
       "<div>\n",
       "<style scoped>\n",
       "    .dataframe tbody tr th:only-of-type {\n",
       "        vertical-align: middle;\n",
       "    }\n",
       "\n",
       "    .dataframe tbody tr th {\n",
       "        vertical-align: top;\n",
       "    }\n",
       "\n",
       "    .dataframe thead th {\n",
       "        text-align: right;\n",
       "    }\n",
       "</style>\n",
       "<table border=\"1\" class=\"dataframe\">\n",
       "  <thead>\n",
       "    <tr style=\"text-align: right;\">\n",
       "      <th></th>\n",
       "      <th>review_id</th>\n",
       "      <th>star_rating</th>\n",
       "      <th>helpful_votes</th>\n",
       "      <th>total_votes</th>\n",
       "      <th>vine</th>\n",
       "      <th>verified_purchase</th>\n",
       "    </tr>\n",
       "  </thead>\n",
       "  <tbody>\n",
       "    <tr>\n",
       "      <th>0</th>\n",
       "      <td>RTIS3L2M1F5SM</td>\n",
       "      <td>5</td>\n",
       "      <td>0</td>\n",
       "      <td>0</td>\n",
       "      <td>N</td>\n",
       "      <td>Y</td>\n",
       "    </tr>\n",
       "    <tr>\n",
       "      <th>1</th>\n",
       "      <td>R1ZV7R40OLHKD</td>\n",
       "      <td>5</td>\n",
       "      <td>0</td>\n",
       "      <td>0</td>\n",
       "      <td>N</td>\n",
       "      <td>Y</td>\n",
       "    </tr>\n",
       "    <tr>\n",
       "      <th>2</th>\n",
       "      <td>R3BH071QLH8QMC</td>\n",
       "      <td>1</td>\n",
       "      <td>0</td>\n",
       "      <td>1</td>\n",
       "      <td>N</td>\n",
       "      <td>Y</td>\n",
       "    </tr>\n",
       "    <tr>\n",
       "      <th>3</th>\n",
       "      <td>R127K9NTSXA2YH</td>\n",
       "      <td>3</td>\n",
       "      <td>0</td>\n",
       "      <td>0</td>\n",
       "      <td>N</td>\n",
       "      <td>Y</td>\n",
       "    </tr>\n",
       "    <tr>\n",
       "      <th>4</th>\n",
       "      <td>R32ZWUXDJPW27Q</td>\n",
       "      <td>4</td>\n",
       "      <td>0</td>\n",
       "      <td>0</td>\n",
       "      <td>N</td>\n",
       "      <td>Y</td>\n",
       "    </tr>\n",
       "  </tbody>\n",
       "</table>\n",
       "</div>"
      ],
      "text/plain": [
       "        review_id  star_rating  helpful_votes  total_votes vine  \\\n",
       "0   RTIS3L2M1F5SM            5              0            0    N   \n",
       "1   R1ZV7R40OLHKD            5              0            0    N   \n",
       "2  R3BH071QLH8QMC            1              0            1    N   \n",
       "3  R127K9NTSXA2YH            3              0            0    N   \n",
       "4  R32ZWUXDJPW27Q            4              0            0    N   \n",
       "\n",
       "  verified_purchase  \n",
       "0                 Y  \n",
       "1                 Y  \n",
       "2                 Y  \n",
       "3                 Y  \n",
       "4                 Y  "
      ]
     },
     "execution_count": 31,
     "metadata": {},
     "output_type": "execute_result"
    }
   ],
   "source": [
    "# read in vine.csv as a dataframe\n",
    "vine_df = pd.read_csv(r\"C:\\Users\\earth\\Desktop\\class_folder\\Amazon_Vine_Analysis\\vine_table.csv\")\n",
    "vine_df.head()"
   ]
  },
  {
   "cell_type": "code",
   "execution_count": 32,
   "id": "6e8a9c16",
   "metadata": {},
   "outputs": [
    {
     "data": {
      "text/html": [
       "<div>\n",
       "<style scoped>\n",
       "    .dataframe tbody tr th:only-of-type {\n",
       "        vertical-align: middle;\n",
       "    }\n",
       "\n",
       "    .dataframe tbody tr th {\n",
       "        vertical-align: top;\n",
       "    }\n",
       "\n",
       "    .dataframe thead th {\n",
       "        text-align: right;\n",
       "    }\n",
       "</style>\n",
       "<table border=\"1\" class=\"dataframe\">\n",
       "  <thead>\n",
       "    <tr style=\"text-align: right;\">\n",
       "      <th></th>\n",
       "      <th>review_id</th>\n",
       "      <th>star_rating</th>\n",
       "      <th>helpful_votes</th>\n",
       "      <th>total_votes</th>\n",
       "      <th>vine</th>\n",
       "      <th>verified_purchase</th>\n",
       "    </tr>\n",
       "  </thead>\n",
       "  <tbody>\n",
       "    <tr>\n",
       "      <th>55</th>\n",
       "      <td>R4PKAZRQJJX14</td>\n",
       "      <td>1</td>\n",
       "      <td>21</td>\n",
       "      <td>34</td>\n",
       "      <td>N</td>\n",
       "      <td>N</td>\n",
       "    </tr>\n",
       "    <tr>\n",
       "      <th>74</th>\n",
       "      <td>R2CI0Y288CC7E2</td>\n",
       "      <td>1</td>\n",
       "      <td>21</td>\n",
       "      <td>35</td>\n",
       "      <td>N</td>\n",
       "      <td>Y</td>\n",
       "    </tr>\n",
       "    <tr>\n",
       "      <th>209</th>\n",
       "      <td>R127WEQY2FM1T3</td>\n",
       "      <td>1</td>\n",
       "      <td>147</td>\n",
       "      <td>175</td>\n",
       "      <td>N</td>\n",
       "      <td>Y</td>\n",
       "    </tr>\n",
       "    <tr>\n",
       "      <th>289</th>\n",
       "      <td>R3EZ0EPYLDA34S</td>\n",
       "      <td>1</td>\n",
       "      <td>14</td>\n",
       "      <td>31</td>\n",
       "      <td>N</td>\n",
       "      <td>Y</td>\n",
       "    </tr>\n",
       "    <tr>\n",
       "      <th>483</th>\n",
       "      <td>R2FJ94555FZH32</td>\n",
       "      <td>2</td>\n",
       "      <td>55</td>\n",
       "      <td>60</td>\n",
       "      <td>N</td>\n",
       "      <td>N</td>\n",
       "    </tr>\n",
       "  </tbody>\n",
       "</table>\n",
       "</div>"
      ],
      "text/plain": [
       "          review_id  star_rating  helpful_votes  total_votes vine  \\\n",
       "55    R4PKAZRQJJX14            1             21           34    N   \n",
       "74   R2CI0Y288CC7E2            1             21           35    N   \n",
       "209  R127WEQY2FM1T3            1            147          175    N   \n",
       "289  R3EZ0EPYLDA34S            1             14           31    N   \n",
       "483  R2FJ94555FZH32            2             55           60    N   \n",
       "\n",
       "    verified_purchase  \n",
       "55                  N  \n",
       "74                  Y  \n",
       "209                 Y  \n",
       "289                 Y  \n",
       "483                 N  "
      ]
     },
     "execution_count": 32,
     "metadata": {},
     "output_type": "execute_result"
    }
   ],
   "source": [
    "# 1 Create new dataFrame by filtering total_votes equal or greater than 20.\n",
    "Vine_filtered_df = vine_df[vine_df[\"total_votes\"] >=20]\n",
    "Vine_filtered_df.head()"
   ]
  },
  {
   "cell_type": "code",
   "execution_count": 33,
   "id": "5c27f456",
   "metadata": {},
   "outputs": [],
   "source": [
    "# 2 filter2 to get all rows helpful_votes/total_votes is >= 50%\n",
    "\n",
    "vine_filter2_df = Vine_filtered_df[(Vine_filtered_df['helpful_votes']/Vine_filtered_df['total_votes']) >=.50]\n",
    "                                 "
   ]
  },
  {
   "cell_type": "code",
   "execution_count": 35,
   "id": "c8f3c1f6",
   "metadata": {},
   "outputs": [
    {
     "data": {
      "text/html": [
       "<div>\n",
       "<style scoped>\n",
       "    .dataframe tbody tr th:only-of-type {\n",
       "        vertical-align: middle;\n",
       "    }\n",
       "\n",
       "    .dataframe tbody tr th {\n",
       "        vertical-align: top;\n",
       "    }\n",
       "\n",
       "    .dataframe thead th {\n",
       "        text-align: right;\n",
       "    }\n",
       "</style>\n",
       "<table border=\"1\" class=\"dataframe\">\n",
       "  <thead>\n",
       "    <tr style=\"text-align: right;\">\n",
       "      <th></th>\n",
       "      <th>review_id</th>\n",
       "      <th>star_rating</th>\n",
       "      <th>helpful_votes</th>\n",
       "      <th>total_votes</th>\n",
       "      <th>vine</th>\n",
       "      <th>verified_purchase</th>\n",
       "    </tr>\n",
       "  </thead>\n",
       "  <tbody>\n",
       "    <tr>\n",
       "      <th>32611</th>\n",
       "      <td>R3KKUSGFZWSUIY</td>\n",
       "      <td>5</td>\n",
       "      <td>56</td>\n",
       "      <td>63</td>\n",
       "      <td>Y</td>\n",
       "      <td>N</td>\n",
       "    </tr>\n",
       "    <tr>\n",
       "      <th>33112</th>\n",
       "      <td>R10FO5UKKVZBK2</td>\n",
       "      <td>3</td>\n",
       "      <td>23</td>\n",
       "      <td>23</td>\n",
       "      <td>Y</td>\n",
       "      <td>N</td>\n",
       "    </tr>\n",
       "    <tr>\n",
       "      <th>69680</th>\n",
       "      <td>RM4KSGEOR7MU1</td>\n",
       "      <td>5</td>\n",
       "      <td>19</td>\n",
       "      <td>24</td>\n",
       "      <td>Y</td>\n",
       "      <td>N</td>\n",
       "    </tr>\n",
       "    <tr>\n",
       "      <th>155361</th>\n",
       "      <td>RG7VRMYLEXD23</td>\n",
       "      <td>4</td>\n",
       "      <td>22</td>\n",
       "      <td>26</td>\n",
       "      <td>Y</td>\n",
       "      <td>N</td>\n",
       "    </tr>\n",
       "    <tr>\n",
       "      <th>239327</th>\n",
       "      <td>R11O4YSCPSNL6L</td>\n",
       "      <td>3</td>\n",
       "      <td>20</td>\n",
       "      <td>26</td>\n",
       "      <td>Y</td>\n",
       "      <td>N</td>\n",
       "    </tr>\n",
       "  </tbody>\n",
       "</table>\n",
       "</div>"
      ],
      "text/plain": [
       "             review_id  star_rating  helpful_votes  total_votes vine  \\\n",
       "32611   R3KKUSGFZWSUIY            5             56           63    Y   \n",
       "33112   R10FO5UKKVZBK2            3             23           23    Y   \n",
       "69680    RM4KSGEOR7MU1            5             19           24    Y   \n",
       "155361   RG7VRMYLEXD23            4             22           26    Y   \n",
       "239327  R11O4YSCPSNL6L            3             20           26    Y   \n",
       "\n",
       "       verified_purchase  \n",
       "32611                  N  \n",
       "33112                  N  \n",
       "69680                  N  \n",
       "155361                 N  \n",
       "239327                 N  "
      ]
     },
     "execution_count": 35,
     "metadata": {},
     "output_type": "execute_result"
    }
   ],
   "source": [
    "# 3 Filter only get rows that are part(paid) of the program \"Y\"\n",
    "vine_program_paid = vine_filter2_df[vine_filter2_df[\"vine\"]==\"Y\"]\n",
    "vine_program_paid.head()"
   ]
  },
  {
   "cell_type": "code",
   "execution_count": 36,
   "id": "6a1b0de5",
   "metadata": {},
   "outputs": [
    {
     "data": {
      "text/html": [
       "<div>\n",
       "<style scoped>\n",
       "    .dataframe tbody tr th:only-of-type {\n",
       "        vertical-align: middle;\n",
       "    }\n",
       "\n",
       "    .dataframe tbody tr th {\n",
       "        vertical-align: top;\n",
       "    }\n",
       "\n",
       "    .dataframe thead th {\n",
       "        text-align: right;\n",
       "    }\n",
       "</style>\n",
       "<table border=\"1\" class=\"dataframe\">\n",
       "  <thead>\n",
       "    <tr style=\"text-align: right;\">\n",
       "      <th></th>\n",
       "      <th>review_id</th>\n",
       "      <th>star_rating</th>\n",
       "      <th>helpful_votes</th>\n",
       "      <th>total_votes</th>\n",
       "      <th>vine</th>\n",
       "      <th>verified_purchase</th>\n",
       "    </tr>\n",
       "  </thead>\n",
       "  <tbody>\n",
       "    <tr>\n",
       "      <th>55</th>\n",
       "      <td>R4PKAZRQJJX14</td>\n",
       "      <td>1</td>\n",
       "      <td>21</td>\n",
       "      <td>34</td>\n",
       "      <td>N</td>\n",
       "      <td>N</td>\n",
       "    </tr>\n",
       "    <tr>\n",
       "      <th>74</th>\n",
       "      <td>R2CI0Y288CC7E2</td>\n",
       "      <td>1</td>\n",
       "      <td>21</td>\n",
       "      <td>35</td>\n",
       "      <td>N</td>\n",
       "      <td>Y</td>\n",
       "    </tr>\n",
       "    <tr>\n",
       "      <th>209</th>\n",
       "      <td>R127WEQY2FM1T3</td>\n",
       "      <td>1</td>\n",
       "      <td>147</td>\n",
       "      <td>175</td>\n",
       "      <td>N</td>\n",
       "      <td>Y</td>\n",
       "    </tr>\n",
       "    <tr>\n",
       "      <th>483</th>\n",
       "      <td>R2FJ94555FZH32</td>\n",
       "      <td>2</td>\n",
       "      <td>55</td>\n",
       "      <td>60</td>\n",
       "      <td>N</td>\n",
       "      <td>N</td>\n",
       "    </tr>\n",
       "    <tr>\n",
       "      <th>537</th>\n",
       "      <td>R1U3AR67RE273L</td>\n",
       "      <td>1</td>\n",
       "      <td>51</td>\n",
       "      <td>65</td>\n",
       "      <td>N</td>\n",
       "      <td>Y</td>\n",
       "    </tr>\n",
       "  </tbody>\n",
       "</table>\n",
       "</div>"
      ],
      "text/plain": [
       "          review_id  star_rating  helpful_votes  total_votes vine  \\\n",
       "55    R4PKAZRQJJX14            1             21           34    N   \n",
       "74   R2CI0Y288CC7E2            1             21           35    N   \n",
       "209  R127WEQY2FM1T3            1            147          175    N   \n",
       "483  R2FJ94555FZH32            2             55           60    N   \n",
       "537  R1U3AR67RE273L            1             51           65    N   \n",
       "\n",
       "    verified_purchase  \n",
       "55                  N  \n",
       "74                  Y  \n",
       "209                 Y  \n",
       "483                 N  \n",
       "537                 Y  "
      ]
     },
     "execution_count": 36,
     "metadata": {},
     "output_type": "execute_result"
    }
   ],
   "source": [
    "# Filter only get rows that are NOT part(unpaid) of the program \"N\"\n",
    "vine_program_unpaid = vine_filter2_df[vine_filter2_df[\"vine\"]==\"N\"]\n",
    "vine_program_unpaid.head()"
   ]
  },
  {
   "cell_type": "code",
   "execution_count": 37,
   "id": "210d42ed",
   "metadata": {},
   "outputs": [
    {
     "data": {
      "text/plain": [
       "94"
      ]
     },
     "execution_count": 37,
     "metadata": {},
     "output_type": "execute_result"
    }
   ],
   "source": [
    "# 5 total number of paid reviews (vine=\"Y\")\n",
    "total_paid_reviews = len(vine_program_paid)\n",
    "total_paid_reviews"
   ]
  },
  {
   "cell_type": "code",
   "execution_count": 38,
   "id": "4a37a182",
   "metadata": {},
   "outputs": [
    {
     "data": {
      "text/plain": [
       "40471"
      ]
     },
     "execution_count": 38,
     "metadata": {},
     "output_type": "execute_result"
    }
   ],
   "source": [
    "# 5 total number of unpaid reviews (vine=\"N\")\n",
    "total_unpaid_reviews = len(vine_program_unpaid)\n",
    "total_unpaid_reviews"
   ]
  },
  {
   "cell_type": "code",
   "execution_count": 39,
   "id": "4096f1e5",
   "metadata": {},
   "outputs": [
    {
     "data": {
      "text/plain": [
       "48"
      ]
     },
     "execution_count": 39,
     "metadata": {},
     "output_type": "execute_result"
    }
   ],
   "source": [
    "# 5 Number of five-star reviews (vine=\"Y\")\n",
    "paid_five_star_review = len(vine_program_paid[vine_program_paid[\"star_rating\"] == 5])\n",
    "paid_five_star_review\n"
   ]
  },
  {
   "cell_type": "code",
   "execution_count": 40,
   "id": "4bac2265",
   "metadata": {},
   "outputs": [
    {
     "data": {
      "text/plain": [
       "15663"
      ]
     },
     "execution_count": 40,
     "metadata": {},
     "output_type": "execute_result"
    }
   ],
   "source": [
    "# 5 Number of five-star reviews (vine=\"N\")\n",
    "unpaid_five_star_review = len(vine_program_unpaid[vine_program_unpaid[\"star_rating\"] == 5])\n",
    "unpaid_five_star_review"
   ]
  },
  {
   "cell_type": "code",
   "execution_count": 41,
   "id": "42b557d4",
   "metadata": {},
   "outputs": [
    {
     "data": {
      "text/plain": [
       "51.06382978723404"
      ]
     },
     "execution_count": 41,
     "metadata": {},
     "output_type": "execute_result"
    }
   ],
   "source": [
    "# 5 Percentage of 5-star reviews that are paid (vine=\"Y\")\n",
    "percentage_paid_five_star_review = (paid_five_star_review/total_paid_reviews)*100\n",
    "percentage_paid_five_star_review"
   ]
  },
  {
   "cell_type": "code",
   "execution_count": 42,
   "id": "45c727c9",
   "metadata": {},
   "outputs": [
    {
     "data": {
      "text/plain": [
       "38.701786464381904"
      ]
     },
     "execution_count": 42,
     "metadata": {},
     "output_type": "execute_result"
    }
   ],
   "source": [
    "# 5 Percentage of 5-star reviews that are unpaid (vine=\"N\")\n",
    "percentage_unpaid_five_star_review = (unpaid_five_star_review/total_unpaid_reviews)*100\n",
    "percentage_unpaid_five_star_review\n",
    "\n",
    "\n"
   ]
  },
  {
   "cell_type": "code",
   "execution_count": null,
   "id": "74d56072",
   "metadata": {},
   "outputs": [],
   "source": []
  }
 ],
 "metadata": {
  "kernelspec": {
   "display_name": "Python 3 (ipykernel)",
   "language": "python",
   "name": "python3"
  },
  "language_info": {
   "codemirror_mode": {
    "name": "ipython",
    "version": 3
   },
   "file_extension": ".py",
   "mimetype": "text/x-python",
   "name": "python",
   "nbconvert_exporter": "python",
   "pygments_lexer": "ipython3",
   "version": "3.9.7"
  }
 },
 "nbformat": 4,
 "nbformat_minor": 5
}
